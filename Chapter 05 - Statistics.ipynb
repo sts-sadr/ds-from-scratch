{
 "cells": [
  {
   "cell_type": "markdown",
   "metadata": {},
   "source": [
    "## Statistics\n",
    "\n",
    "Through the book we've encountered ways of producing data, now it's time to _describe_ it.\n",
    "\n",
    "We start with a very simple dataset, an array holding the friends count per id."
   ]
  },
  {
   "cell_type": "code",
   "execution_count": 7,
   "metadata": {
    "collapsed": false
   },
   "outputs": [
    {
     "data": {
      "image/png": "[encoded data removed]",
      "text/plain": [
       "<matplotlib.figure.Figure at 0x10dd2c110>"
      ]
     },
     "metadata": {},
     "output_type": "display_data"
    }
   ],
   "source": [
    "%matplotlib inline\n",
    "import seaborn\n",
    "from matplotlib import pyplot as plt\n",
    "from collections import Counter\n",
    "\n",
    "num_friends = [5, 3, 10, 11, 11, 9, 4, 10, 1, 3, 7]\n",
    "\n",
    "# For this small dataset, we start plotting this data, just to understand and have an intuition of the distribution.\n",
    "friend_counts = Counter(num_friends)\n",
    "\n",
    "xs = range(15)\n",
    "ys = [friend_counts[x] for x in xs]\n",
    "\n",
    "plt.bar(xs, ys)\n",
    "plt.axis([0, 12, 0, 5])\n",
    "plt.title(\"Histogram of Friend Counts\")\n",
    "plt.xlabel(\"# of friends\")\n",
    "plt.ylabel(\"# of people\")\n",
    "plt.show()"
   ]
  },
  {
   "cell_type": "markdown",
   "metadata": {},
   "source": [
    "Ok, so far, no interesting conclusions to arrive to.\n",
    "\n",
    "The book now presents a series of simple metrics to get over the data."
   ]
  },
  {
   "cell_type": "code",
   "execution_count": 19,
   "metadata": {
    "collapsed": false
   },
   "outputs": [
    {
     "name": "stdout",
     "output_type": "stream",
     "text": [
      "dataset size: 11\n",
      "largest: 11\n",
      "smallest: 1\n"
     ]
    }
   ],
   "source": [
    "num_points = len(num_friends)\n",
    "\n",
    "# These are special cases of knowing the values at certain position, let's sort it then!\n",
    "largest = max(num_friends)\n",
    "smallest = min(num_friends)\n",
    "\n",
    "sorted_values = sorted(num_friends)\n",
    "\n",
    "assert smallest == sorted_values[0]\n",
    "assert largest == sorted_values[-1]\n",
    "\n",
    "print \"dataset size: %s\" % num_points\n",
    "print \"largest: %s\" % largest\n",
    "print \"smallest: %s\" % smallest\n",
    "\n"
   ]
  },
  {
   "cell_type": "code",
   "execution_count": null,
   "metadata": {
    "collapsed": true
   },
   "outputs": [],
   "source": []
  }
 ],
 "metadata": {
  "kernelspec": {
   "display_name": "Python 2",
   "language": "python",
   "name": "python2"
  },
  "language_info": {
   "codemirror_mode": {
    "name": "ipython",
    "version": 2
   },
   "file_extension": ".py",
   "mimetype": "text/x-python",
   "name": "python",
   "nbconvert_exporter": "python",
   "pygments_lexer": "ipython2",
   "version": "2.7.13"
  }
 },
 "nbformat": 4,
 "nbformat_minor": 2
}
