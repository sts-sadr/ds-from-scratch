{
 "cells": [
  {
   "cell_type": "markdown",
   "metadata": {
    "collapsed": true,
    "deletable": true,
    "editable": true
   },
   "source": [
    "## Algebra\n",
    "\n",
    "Most common is vector algebra. We'll only tackle 2 dimensional arrays and matrices.\n",
    "\n",
    "Be aware that [NumPy](http://www.numpy.org) has its own `ndarray` class for this."
   ]
  },
  {
   "cell_type": "code",
   "execution_count": 29,
   "metadata": {
    "collapsed": false,
    "deletable": true,
    "editable": true
   },
   "outputs": [
    {
     "name": "stdout",
     "output_type": "stream",
     "text": [
      "\n",
      "    Given: \n",
      "        v = [1, 2]\n",
      "        w = [3, 4]\n",
      "        x = [5, 6]\n",
      "        \n",
      "    - Addition v + w: \n",
      "        [4, 6]\n",
      "            \n",
      "    - Subtract v - w: \n",
      "        [-2, -2]\n",
      "            \n",
      "    - Summing [v, w, x]: \n",
      "        [9, 12]\n",
      "            \n",
      "    - Multiply v by 3: \n",
      "        [3, 6]\n",
      "        \n",
      "    - Mean of [v, w, x]:\n",
      "        [3.0, 4.0]\n",
      "        \n",
      "    - Dot product v * w:\n",
      "        11\n",
      "    \n",
      "    - Norm sqrt(sum(vi^2)):\n",
      "        2.2360679775\n",
      "        \n",
      "    - Distance between v and w:\n",
      "        2.82842712475\n",
      "    \n"
     ]
    }
   ],
   "source": [
    "from string import Template\n",
    "from __future__ import division\n",
    "import math\n",
    "\n",
    "v = [1, 2]\n",
    "w = [3, 4]\n",
    "x = [5, 6]\n",
    "\n",
    "addition = lambda (x, y): x + y\n",
    "subtraction = lambda (x, y): x - y\n",
    "product = lambda (x, y): x * y\n",
    "\n",
    "def vector_operation(v, w, op):\n",
    "    return map(op, zip(v, w))\n",
    "\n",
    "# We can make usage of this abstract function that just operates on tuples\n",
    "def add(v, w): \n",
    "    return vector_operation(v, w, addition)\n",
    "def sub(v, w): \n",
    "    return vector_operation(v, w, subtraction)\n",
    "\n",
    "# sum a list of vectors\n",
    "def vector_sum(vectors):\n",
    "    return reduce(add, vectors)\n",
    "\n",
    "# multiply a scalar by a vector\n",
    "def scalar_multiply(c, v):\n",
    "    return [c * vi for vi in v]\n",
    "\n",
    "# mean of a list of vectors\n",
    "def vector_mean(vectors):\n",
    "    return scalar_multiply(1 / len(vectors), vector_sum(vectors))\n",
    "\n",
    "# dot product: should be sum(vi * wi) given v and w from Rn (length of the vector projected by v onto w)\n",
    "def dot(v, w):\n",
    "    return sum(vector_operation(v, w, product))\n",
    "\n",
    "def sum_of_squares(v):\n",
    "    return dot(v, v)\n",
    "\n",
    "# magnitude: what's the vector length in space?\n",
    "def norm(v):\n",
    "    return math.sqrt(sum_of_squares(v))\n",
    "\n",
    "# distance between two vectors \n",
    "def distance(v, w):\n",
    "    # could've been sqrt(sum_squares(sub(v, w)))\n",
    "    return norm(sub(v, w))\n",
    "\n",
    "temp = Template(\n",
    "    \"\"\"\n",
    "    Given: \n",
    "        v = [1, 2]\n",
    "        w = [3, 4]\n",
    "        x = [5, 6]\n",
    "        \n",
    "    - Addition v + w: \n",
    "        $res_add\n",
    "            \n",
    "    - Subtract v - w: \n",
    "        $res_sub\n",
    "            \n",
    "    - Summing [v, w, x]: \n",
    "        $res_sum\n",
    "            \n",
    "    - Multiply v by 3: \n",
    "        $res_mul\n",
    "        \n",
    "    - Mean of [v, w, x]:\n",
    "        $res_mean\n",
    "        \n",
    "    - Dot product v * w:\n",
    "        $res_dot\n",
    "    \n",
    "    - Norm sqrt(sum(vi^2)):\n",
    "        $res_norm\n",
    "        \n",
    "    - Distance between v and w:\n",
    "        $res_dist\n",
    "    \"\"\")\n",
    "\n",
    "print(temp.substitute(\n",
    "    res_add  = add(v, w),\n",
    "    res_sub  = sub(v, w),\n",
    "    res_sum  = vector_sum([v, w, x]),\n",
    "    res_mul  = scalar_multiply(3, v),\n",
    "    res_mean = vector_mean([v, w, x]),\n",
    "    res_dot  = dot(v, w),\n",
    "    res_norm = norm(v),\n",
    "    res_dist = distance(v, w)\n",
    "))\n"
   ]
  },
  {
   "cell_type": "markdown",
   "metadata": {
    "deletable": true,
    "editable": true
   },
   "source": [
    "Next on the list are matrices!"
   ]
  },
  {
   "cell_type": "code",
   "execution_count": 13,
   "metadata": {
    "collapsed": false,
    "deletable": true,
    "editable": true
   },
   "outputs": [
    {
     "name": "stdout",
     "output_type": "stream",
     "text": [
      "[[1, 0, 0, 0, 0], [0, 1, 0, 0, 0], [0, 0, 1, 0, 0], [0, 0, 0, 1, 0], [0, 0, 0, 0, 1]]\n"
     ]
    }
   ],
   "source": [
    "A = [[1, 2, 3],\n",
    "     [4, 5, 6]]\n",
    "\n",
    "B = [[1, 2],\n",
    "     [3, 4],\n",
    "     [5, 6]]\n",
    "\n",
    "# how many rows and columns does this matrix have?\n",
    "def shape(A):\n",
    "    num_rows = len(A)\n",
    "    num_columns = len(A[0]) if A else 0 # may be empty\n",
    "    return num_rows, num_columns\n",
    "\n",
    "def get_row(A, i):\n",
    "    return A[i]\n",
    "\n",
    "def get_column(A, j):\n",
    "    return [A_i[j] for A_i in A]\n",
    "\n",
    "def create_matrix(num_rows, num_cols, f):\n",
    "    \"\"\"Returns a (m, n) matrix with f(i, j) applied on each element\"\"\"\n",
    "    return [[f(i, j) \n",
    "             for i in range(num_rows)]\n",
    "            for j in range(num_cols)]\n",
    "\n",
    "# Let's create a 5x5 identity\n",
    "\n",
    "def is_diagonal(x, y):\n",
    "    if x == y: \n",
    "        return 1\n",
    "    else: \n",
    "        return 0\n",
    "\n",
    "print create_matrix(5, 5, is_diagonal)\n",
    "\n",
    "\n"
   ]
  },
  {
   "cell_type": "markdown",
   "metadata": {},
   "source": [
    "Here the book proposes that asserting if two of our data scientists were friends could be much easier if we modelled the friendship as a 1 if (i, j) are connected.\n",
    "\n",
    "Then we can make our queries like `How many people does ds 5 know?`\n",
    "\n",
    "```python\n",
    "[friend \n",
    "    for friend, is_friend in enumerate(friendships[5])\n",
    "    if is_friend]\n",
    "```"
   ]
  }
 ],
 "metadata": {
  "kernelspec": {
   "display_name": "Python 2",
   "language": "python",
   "name": "python2"
  },
  "language_info": {
   "codemirror_mode": {
    "name": "ipython",
    "version": 2
   },
   "file_extension": ".py",
   "mimetype": "text/x-python",
   "name": "python",
   "nbconvert_exporter": "python",
   "pygments_lexer": "ipython2",
   "version": "2.7.11"
  }
 },
 "nbformat": 4,
 "nbformat_minor": 2
}
