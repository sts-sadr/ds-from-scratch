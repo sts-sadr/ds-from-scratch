{
 "cells": [
  {
   "cell_type": "markdown",
   "metadata": {},
   "source": [
    "## Python Crash\n",
    "\n",
    "I'm going to focus on Chapter 02 the not so basics part.\n",
    "\n",
    "### Sorting\n",
    "\n",
    "There are 2 ways to sort stuff in Python:\n",
    "\n",
    "    - *Immutable* fashion \n",
    "    - *In situ*, thus mutating the structure"
   ]
  },
  {
   "cell_type": "code",
   "execution_count": 4,
   "metadata": {
    "collapsed": false
   },
   "outputs": [
    {
     "name": "stdout",
     "output_type": "stream",
     "text": [
      "[('Python', 2), ('Scala', 2), ('Java', 1)]\n"
     ]
    }
   ],
   "source": [
    "# sorting with mutation and without mutation\n",
    "l = [4, 2, 1, 3]\n",
    "\n",
    "# immutable\n",
    "y = sorted(l)\n",
    "\n",
    "# in situ\n",
    "l.sort()\n",
    "\n",
    "def abs(n):\n",
    "    if n < 0: \n",
    "        return -n\n",
    "    else:\n",
    "        return n\n",
    " \n",
    "# sort according to function!\n",
    "z = sorted([-4, -1, 2, 0], key=abs, reverse=True)\n",
    "\n",
    "assert l == y\n",
    "\n",
    "from collections import Counter\n",
    "\n",
    "word_count = Counter([\"Scala\", \"Python\", \"Java\", \"Python\", \"Scala\"])\n",
    "\n",
    "# Sort by count descendent\n",
    "sorted_desc = sorted(word_count.items(),\n",
    "      key=lambda (word, count): count,\n",
    "      reverse=True)\n",
    "\n",
    "print(sorted_desc)"
   ]
  },
  {
   "cell_type": "markdown",
   "metadata": {},
   "source": [
    "### FP\n",
    "\n",
    "Yes, yes, yes. Functional programming is of course one of Python's legs.\n",
    "\n",
    "Functions can be passed as parameters to other functions or return other functions, thus making them HOF,\n",
    "together with partial application.\n",
    "\n",
    "Functional tools revolve around: `map`, `filter`, `reduce`, `zip`, and more."
   ]
  },
  {
   "cell_type": "code",
   "execution_count": 6,
   "metadata": {
    "collapsed": true
   },
   "outputs": [],
   "source": [
    "def exp(base, power):\n",
    "    return base ** power\n",
    "\n",
    "def two_to_the(power):\n",
    "    return exp(2, power)\n",
    "\n",
    "from functools import partial\n",
    "\n",
    "two_to_the = partial(exp, 2)\n",
    "assert two_to_the(3) == 8\n",
    "\n",
    "square_of = partial(exp, power=2)\n",
    "assert square_of(3) == 9\n",
    "\n",
    "hof = partial(map, two_to_the)\n",
    "assert hof([1, 2, 3]) == [2, 4, 8]"
   ]
  },
  {
   "cell_type": "markdown",
   "metadata": {},
   "source": [
    "### ZipWithIndex\n",
    "\n",
    "There are many cases when we're going through a list and we want to do (position, f(element)) given a list of elements.\n",
    "\n",
    "Python has an `enumerate` built in that works just for this"
   ]
  },
  {
   "cell_type": "code",
   "execution_count": 7,
   "metadata": {
    "collapsed": false
   },
   "outputs": [
    {
     "name": "stdout",
     "output_type": "stream",
     "text": [
      "0 Scala Language\n",
      "1 Python Language\n",
      "2 Java Language\n",
      "3 Python Language\n",
      "4 Scala Language\n"
     ]
    }
   ],
   "source": [
    "preferences = [\"Scala\", \"Python\", \"Java\", \"Python\", \"Scala\"]\n",
    "\n",
    "for pos, element in enumerate(preferences):\n",
    "    print pos, element + \" Language\""
   ]
  },
  {
   "cell_type": "code",
   "execution_count": null,
   "metadata": {
    "collapsed": true
   },
   "outputs": [],
   "source": []
  }
 ],
 "metadata": {
  "kernelspec": {
   "display_name": "Python 2",
   "language": "python",
   "name": "python2"
  },
  "language_info": {
   "codemirror_mode": {
    "name": "ipython",
    "version": 2
   },
   "file_extension": ".py",
   "mimetype": "text/x-python",
   "name": "python",
   "nbconvert_exporter": "python",
   "pygments_lexer": "ipython2",
   "version": "2.7.11"
  }
 },
 "nbformat": 4,
 "nbformat_minor": 2
}
